{
  "cells": [
    {
      "cell_type": "markdown",
      "source": [
        "**Disclaimer:** Se utilizó ChatGPT para el Reducer de los cuadrados, aunque están basados en el reducer del triangulo que es más simple."
      ],
      "metadata": {
        "id": "Dy3mfN1jzdxy"
      }
    },
    {
      "cell_type": "code",
      "execution_count": 1,
      "metadata": {
        "colab": {
          "base_uri": "https://localhost:8080/"
        },
        "id": "QkBAUsSy_Cuy",
        "outputId": "57c7902d-87d4-42e4-ddec-8ccc1ef9eefa"
      },
      "outputs": [
        {
          "output_type": "stream",
          "name": "stdout",
          "text": [
            "Collecting pyspark\n",
            "  Downloading pyspark-3.5.1.tar.gz (317.0 MB)\n",
            "\u001b[2K     \u001b[90m━━━━━━━━━━━━━━━━━━━━━━━━━━━━━━━━━━━━━━━━\u001b[0m \u001b[32m317.0/317.0 MB\u001b[0m \u001b[31m2.9 MB/s\u001b[0m eta \u001b[36m0:00:00\u001b[0m\n",
            "\u001b[?25h  Preparing metadata (setup.py) ... \u001b[?25l\u001b[?25hdone\n",
            "Requirement already satisfied: py4j==0.10.9.7 in /usr/local/lib/python3.10/dist-packages (from pyspark) (0.10.9.7)\n",
            "Building wheels for collected packages: pyspark\n",
            "  Building wheel for pyspark (setup.py) ... \u001b[?25l\u001b[?25hdone\n",
            "  Created wheel for pyspark: filename=pyspark-3.5.1-py2.py3-none-any.whl size=317488491 sha256=2c683415aff2767f1046512bfd078c62ee9858b6d57fdd5d206744b3b5560df6\n",
            "  Stored in directory: /root/.cache/pip/wheels/80/1d/60/2c256ed38dddce2fdd93be545214a63e02fbd8d74fb0b7f3a6\n",
            "Successfully built pyspark\n",
            "Installing collected packages: pyspark\n",
            "Successfully installed pyspark-3.5.1\n"
          ]
        }
      ],
      "source": [
        "!pip install pyspark"
      ]
    },
    {
      "cell_type": "code",
      "execution_count": 2,
      "metadata": {
        "id": "-jt5My6s_PND",
        "colab": {
          "base_uri": "https://localhost:8080/",
          "height": 193
        },
        "outputId": "9ca9a1b3-2c41-4ff3-fcca-6f1be47e7ad1"
      },
      "outputs": [
        {
          "output_type": "execute_result",
          "data": {
            "text/plain": [
              "<SparkContext master=local[*] appName=pyspark-shell>"
            ],
            "text/html": [
              "\n",
              "        <div>\n",
              "            <p><b>SparkContext</b></p>\n",
              "\n",
              "            <p><a href=\"http://3d61fe6d7d0f:4040\">Spark UI</a></p>\n",
              "\n",
              "            <dl>\n",
              "              <dt>Version</dt>\n",
              "                <dd><code>v3.5.1</code></dd>\n",
              "              <dt>Master</dt>\n",
              "                <dd><code>local[*]</code></dd>\n",
              "              <dt>AppName</dt>\n",
              "                <dd><code>pyspark-shell</code></dd>\n",
              "            </dl>\n",
              "        </div>\n",
              "        "
            ]
          },
          "metadata": {},
          "execution_count": 2
        }
      ],
      "source": [
        "from pyspark.sql import SparkSession\n",
        "\n",
        "spark = SparkSession.builder \\\n",
        "    .getOrCreate()\n",
        "\n",
        "sc = spark.sparkContext\n",
        "sc"
      ]
    },
    {
      "cell_type": "code",
      "source": [
        "data = [\n",
        "    (1,11,2),(1,11,3),(2,11,3),\n",
        "    (3,11,2),(3,11,4),(4,11,1),\n",
        "    (4,11,2),(4,11,3),(4,12,5),\n",
        "    (5,12,1),(5,12,2),(5,12,6)\n",
        "    ]"
      ],
      "metadata": {
        "id": "U2Ex5QXrRIem"
      },
      "execution_count": 3,
      "outputs": []
    },
    {
      "cell_type": "markdown",
      "source": [
        "**Parte 1**"
      ],
      "metadata": {
        "id": "W2kU7ryyPCla"
      }
    },
    {
      "cell_type": "markdown",
      "source": [
        "1.1 Precalentamiento: Triángulos.\n",
        "\n"
      ],
      "metadata": {
        "id": "egeWCWGCPHDV"
      }
    },
    {
      "cell_type": "markdown",
      "source": [
        "**Fase de Map.**\n",
        "\n",
        "Cada mapper tendra una cierta cantidad de aristas del grafo. Para cada arista (n1, R, n2),\n",
        "el mapper debe hacer lo siguiente.\n",
        "\n",
        "1. Hashear los nodos: b1 = h(n1), b2 = h(n2).\n",
        "2. Como el triangulo que formemos solo puede mapear la variable x a n1 e y a n2, la arista (n1, R, n2)\n",
        "solo podrıa formar parte de un trıangulo de la forma (n1, n2, a) para un a ∈V . Entonces, generamos b\n",
        "llaves (b1, b2, 0), . . . , (b1, b2, b −1), y emitimos b mensajes con el contenido de la arista, uno para cada\n",
        "llave: ((b1, b2, 0), (n1, R, n2)), . . . , ((b1, b2, b −1), (n1, R, n2))"
      ],
      "metadata": {
        "id": "svN3U-UkoVdh"
      }
    },
    {
      "cell_type": "markdown",
      "source": [
        "Para la primera parte, realizaremos un una función que permita hashear de la forma (key, arista)"
      ],
      "metadata": {
        "id": "pAZC9GMGRCO3"
      }
    },
    {
      "cell_type": "markdown",
      "source": [
        "**Probamos para Triangulos (X,11,Y), (Y,11,Z), (Z,11,X)**"
      ],
      "metadata": {
        "id": "9jAYKhEqQd2W"
      }
    },
    {
      "cell_type": "code",
      "source": [
        "def key_edge(edge, b):\n",
        "  map = [] # Lista que contiene los pares key, arista para una determinada edge\n",
        "  n1, label, n2 = edge # Descomponemos la arista entregada\n",
        "  for i in range (b): #Iteramos en los valores de mod 2: 0,1\n",
        "  #agregamos los pares ((b1, b2, 0), (n1, R, n2)), . . . , ((b1, b2, b −1), (n1, R, n2))\n",
        "    map.append(((n1%b, n2%b, i), edge)) #(x,11,y)\n",
        "    map.append(((i, n1%b, n2%b), edge))  # (y, 11, z)\n",
        "    map.append(((n2%b, i, n1%b), edge))  # (z, 11, x)\n",
        "  return map\n",
        "\n"
      ],
      "metadata": {
        "id": "t-qvJW2SPtg1"
      },
      "execution_count": 4,
      "outputs": []
    },
    {
      "cell_type": "code",
      "source": [
        "data_triangles = [edge for edge in data if edge[1] == 11]\n",
        "\n",
        "rdd = sc.parallelize(data_triangles)\n",
        "rdd.collect()\n"
      ],
      "metadata": {
        "colab": {
          "base_uri": "https://localhost:8080/"
        },
        "id": "NkUHeqkhRBNT",
        "outputId": "c53a8317-76fc-428e-d828-2df3f77d0dc4"
      },
      "execution_count": 5,
      "outputs": [
        {
          "output_type": "execute_result",
          "data": {
            "text/plain": [
              "[(1, 11, 2),\n",
              " (1, 11, 3),\n",
              " (2, 11, 3),\n",
              " (3, 11, 2),\n",
              " (3, 11, 4),\n",
              " (4, 11, 1),\n",
              " (4, 11, 2),\n",
              " (4, 11, 3)]"
            ]
          },
          "metadata": {},
          "execution_count": 5
        }
      ]
    },
    {
      "cell_type": "code",
      "source": [
        "map_rdd = rdd.flatMap(lambda x: key_edge(x, 2))\n",
        "map_rdd.collect()"
      ],
      "metadata": {
        "colab": {
          "base_uri": "https://localhost:8080/"
        },
        "id": "-SztVh73D0Ys",
        "outputId": "58533c60-11b1-4d7f-80e6-bb04eefd26e6"
      },
      "execution_count": 6,
      "outputs": [
        {
          "output_type": "execute_result",
          "data": {
            "text/plain": [
              "[((1, 0, 0), (1, 11, 2)),\n",
              " ((0, 1, 0), (1, 11, 2)),\n",
              " ((0, 0, 1), (1, 11, 2)),\n",
              " ((1, 0, 1), (1, 11, 2)),\n",
              " ((1, 1, 0), (1, 11, 2)),\n",
              " ((0, 1, 1), (1, 11, 2)),\n",
              " ((1, 1, 0), (1, 11, 3)),\n",
              " ((0, 1, 1), (1, 11, 3)),\n",
              " ((1, 0, 1), (1, 11, 3)),\n",
              " ((1, 1, 1), (1, 11, 3)),\n",
              " ((1, 1, 1), (1, 11, 3)),\n",
              " ((1, 1, 1), (1, 11, 3)),\n",
              " ((0, 1, 0), (2, 11, 3)),\n",
              " ((0, 0, 1), (2, 11, 3)),\n",
              " ((1, 0, 0), (2, 11, 3)),\n",
              " ((0, 1, 1), (2, 11, 3)),\n",
              " ((1, 0, 1), (2, 11, 3)),\n",
              " ((1, 1, 0), (2, 11, 3)),\n",
              " ((1, 0, 0), (3, 11, 2)),\n",
              " ((0, 1, 0), (3, 11, 2)),\n",
              " ((0, 0, 1), (3, 11, 2)),\n",
              " ((1, 0, 1), (3, 11, 2)),\n",
              " ((1, 1, 0), (3, 11, 2)),\n",
              " ((0, 1, 1), (3, 11, 2)),\n",
              " ((1, 0, 0), (3, 11, 4)),\n",
              " ((0, 1, 0), (3, 11, 4)),\n",
              " ((0, 0, 1), (3, 11, 4)),\n",
              " ((1, 0, 1), (3, 11, 4)),\n",
              " ((1, 1, 0), (3, 11, 4)),\n",
              " ((0, 1, 1), (3, 11, 4)),\n",
              " ((0, 1, 0), (4, 11, 1)),\n",
              " ((0, 0, 1), (4, 11, 1)),\n",
              " ((1, 0, 0), (4, 11, 1)),\n",
              " ((0, 1, 1), (4, 11, 1)),\n",
              " ((1, 0, 1), (4, 11, 1)),\n",
              " ((1, 1, 0), (4, 11, 1)),\n",
              " ((0, 0, 0), (4, 11, 2)),\n",
              " ((0, 0, 0), (4, 11, 2)),\n",
              " ((0, 0, 0), (4, 11, 2)),\n",
              " ((0, 0, 1), (4, 11, 2)),\n",
              " ((1, 0, 0), (4, 11, 2)),\n",
              " ((0, 1, 0), (4, 11, 2)),\n",
              " ((0, 1, 0), (4, 11, 3)),\n",
              " ((0, 0, 1), (4, 11, 3)),\n",
              " ((1, 0, 0), (4, 11, 3)),\n",
              " ((0, 1, 1), (4, 11, 3)),\n",
              " ((1, 0, 1), (4, 11, 3)),\n",
              " ((1, 1, 0), (4, 11, 3))]"
            ]
          },
          "metadata": {},
          "execution_count": 6
        }
      ]
    },
    {
      "cell_type": "markdown",
      "source": [
        "**Fase de Reduce.**\n",
        "\n",
        " Los reducers reciben siempre los mensajes correspondientes a alguna llave (b1, b2, b3).\n",
        "Pero en el valor de esa llave se encuentran aristas. Todas estas aristas forman un pequeño grafo , y el reducer\n",
        "emite como respuesta todas las tuplas (n1, n2, n3) correspondientes a los triangulos que detecta en su grafo"
      ],
      "metadata": {
        "id": "hUg_FTIydUpZ"
      }
    },
    {
      "cell_type": "code",
      "source": [
        "group_rdd = map_rdd.groupByKey().mapValues(list)\n",
        "group_rdd.collect()"
      ],
      "metadata": {
        "colab": {
          "base_uri": "https://localhost:8080/"
        },
        "id": "revxsn6FBOwP",
        "outputId": "aaaede32-87ee-41c3-e626-616dc16d0cf6"
      },
      "execution_count": 7,
      "outputs": [
        {
          "output_type": "execute_result",
          "data": {
            "text/plain": [
              "[((1, 0, 0),\n",
              "  [(1, 11, 2),\n",
              "   (2, 11, 3),\n",
              "   (3, 11, 2),\n",
              "   (3, 11, 4),\n",
              "   (4, 11, 1),\n",
              "   (4, 11, 2),\n",
              "   (4, 11, 3)]),\n",
              " ((0, 1, 0),\n",
              "  [(1, 11, 2),\n",
              "   (2, 11, 3),\n",
              "   (3, 11, 2),\n",
              "   (3, 11, 4),\n",
              "   (4, 11, 1),\n",
              "   (4, 11, 2),\n",
              "   (4, 11, 3)]),\n",
              " ((0, 0, 1),\n",
              "  [(1, 11, 2),\n",
              "   (2, 11, 3),\n",
              "   (3, 11, 2),\n",
              "   (3, 11, 4),\n",
              "   (4, 11, 1),\n",
              "   (4, 11, 2),\n",
              "   (4, 11, 3)]),\n",
              " ((1, 1, 1), [(1, 11, 3), (1, 11, 3), (1, 11, 3)]),\n",
              " ((1, 0, 1),\n",
              "  [(1, 11, 2),\n",
              "   (1, 11, 3),\n",
              "   (2, 11, 3),\n",
              "   (3, 11, 2),\n",
              "   (3, 11, 4),\n",
              "   (4, 11, 1),\n",
              "   (4, 11, 3)]),\n",
              " ((1, 1, 0),\n",
              "  [(1, 11, 2),\n",
              "   (1, 11, 3),\n",
              "   (2, 11, 3),\n",
              "   (3, 11, 2),\n",
              "   (3, 11, 4),\n",
              "   (4, 11, 1),\n",
              "   (4, 11, 3)]),\n",
              " ((0, 1, 1),\n",
              "  [(1, 11, 2),\n",
              "   (1, 11, 3),\n",
              "   (2, 11, 3),\n",
              "   (3, 11, 2),\n",
              "   (3, 11, 4),\n",
              "   (4, 11, 1),\n",
              "   (4, 11, 3)]),\n",
              " ((0, 0, 0), [(4, 11, 2), (4, 11, 2), (4, 11, 2)])]"
            ]
          },
          "metadata": {},
          "execution_count": 7
        }
      ]
    },
    {
      "cell_type": "markdown",
      "source": [
        "**Reducer Triangulos**"
      ],
      "metadata": {
        "id": "WI4ep5UNWoKM"
      }
    },
    {
      "cell_type": "code",
      "source": [
        "def reduce_phase(values):\n",
        "    from collections import defaultdict\n",
        "    edges_by_node = defaultdict(list)\n",
        "    for n1, R, n2 in values:\n",
        "        edges_by_node[(n1, n2)].append(R)\n",
        "\n",
        "    # Find triangles\n",
        "    triangles = set()\n",
        "    nodes = list(edges_by_node.keys())\n",
        "    for i in range(len(nodes)):\n",
        "        for j in range(i+1, len(nodes)):\n",
        "            for k in range(j+1, len(nodes)):\n",
        "                n1, n2 = nodes[i]\n",
        "                n2_2, n3 = nodes[j]\n",
        "                n3_2, n1_2 = nodes[k]\n",
        "                if n2 == n2_2 and n3 == n3_2 and n1 == n1_2:\n",
        "                    triangles.add((n1, n2, n3))\n",
        "    return list(triangles)\n"
      ],
      "metadata": {
        "id": "tT-1f4g4XP3b"
      },
      "execution_count": 8,
      "outputs": []
    },
    {
      "cell_type": "code",
      "source": [
        "rdd_triangles = group_rdd.flatMapValues(reduce_phase)\n",
        "rdd_triangles.collect()"
      ],
      "metadata": {
        "colab": {
          "base_uri": "https://localhost:8080/"
        },
        "id": "-TnIsbY7dNKK",
        "outputId": "de39fd79-7e20-4ec7-e6bd-fd15e730a87c"
      },
      "execution_count": 9,
      "outputs": [
        {
          "output_type": "execute_result",
          "data": {
            "text/plain": [
              "[((1, 0, 0), (2, 3, 4)),\n",
              " ((0, 1, 0), (2, 3, 4)),\n",
              " ((0, 0, 1), (2, 3, 4)),\n",
              " ((1, 0, 1), (1, 3, 4)),\n",
              " ((1, 1, 0), (1, 3, 4)),\n",
              " ((0, 1, 1), (1, 3, 4))]"
            ]
          },
          "metadata": {},
          "execution_count": 9
        }
      ]
    },
    {
      "cell_type": "markdown",
      "source": [
        "**Consulta Cuadrado (x,11,y), (y,11,z), (z,11,w), (w,11,x)**"
      ],
      "metadata": {
        "id": "fSUU49-3oruu"
      }
    },
    {
      "cell_type": "code",
      "source": [
        "def key_edge_square(edge, b):\n",
        "  map = [] # Lista que contiene los pares key, arista para una determinada edge\n",
        "  n1, label, n2 = edge # Descomponemos la arista entregada\n",
        "  for i in range (b): #Iteramos en los valores de mod\n",
        "  #agregamos los pares ((b1, b2, 0), (n1, R, n2)), . . . , ((b1, b2, b −1), (n1, R, n2))\n",
        "    map.append(((n1%b, n2%b, i), edge)) #(x,11,y)\n",
        "    map.append(((i, n1%b, n2%b), edge))  # (y, 11, z)\n",
        "    map.append(((n2%b, i, n1%b), edge))  # (z, 11, w)\n",
        "    map.append(((n1%b, n2%b, i), edge))  # (w, 11, x)\n",
        "  return map\n"
      ],
      "metadata": {
        "id": "NjcKK2cTnssM"
      },
      "execution_count": 10,
      "outputs": []
    },
    {
      "cell_type": "code",
      "source": [
        "rdd = sc.parallelize(data_triangles)\n",
        "rdd.collect()"
      ],
      "metadata": {
        "colab": {
          "base_uri": "https://localhost:8080/"
        },
        "id": "Q6o97l33pGds",
        "outputId": "d3cdf460-09a3-48f3-8867-ae5ee3e6dfb8"
      },
      "execution_count": 11,
      "outputs": [
        {
          "output_type": "execute_result",
          "data": {
            "text/plain": [
              "[(1, 11, 2),\n",
              " (1, 11, 3),\n",
              " (2, 11, 3),\n",
              " (3, 11, 2),\n",
              " (3, 11, 4),\n",
              " (4, 11, 1),\n",
              " (4, 11, 2),\n",
              " (4, 11, 3)]"
            ]
          },
          "metadata": {},
          "execution_count": 11
        }
      ]
    },
    {
      "cell_type": "code",
      "source": [
        "map_rdd_square = rdd.flatMap(lambda x: key_edge_square(x, 2))\n",
        "map_rdd_square.collect()"
      ],
      "metadata": {
        "colab": {
          "base_uri": "https://localhost:8080/"
        },
        "id": "3p5j5MqGpQUH",
        "outputId": "9c38751b-c5d2-4d75-d9d4-4c3151936b7e"
      },
      "execution_count": 12,
      "outputs": [
        {
          "output_type": "execute_result",
          "data": {
            "text/plain": [
              "[((1, 0, 0), (1, 11, 2)),\n",
              " ((0, 1, 0), (1, 11, 2)),\n",
              " ((0, 0, 1), (1, 11, 2)),\n",
              " ((1, 0, 0), (1, 11, 2)),\n",
              " ((1, 0, 1), (1, 11, 2)),\n",
              " ((1, 1, 0), (1, 11, 2)),\n",
              " ((0, 1, 1), (1, 11, 2)),\n",
              " ((1, 0, 1), (1, 11, 2)),\n",
              " ((1, 1, 0), (1, 11, 3)),\n",
              " ((0, 1, 1), (1, 11, 3)),\n",
              " ((1, 0, 1), (1, 11, 3)),\n",
              " ((1, 1, 0), (1, 11, 3)),\n",
              " ((1, 1, 1), (1, 11, 3)),\n",
              " ((1, 1, 1), (1, 11, 3)),\n",
              " ((1, 1, 1), (1, 11, 3)),\n",
              " ((1, 1, 1), (1, 11, 3)),\n",
              " ((0, 1, 0), (2, 11, 3)),\n",
              " ((0, 0, 1), (2, 11, 3)),\n",
              " ((1, 0, 0), (2, 11, 3)),\n",
              " ((0, 1, 0), (2, 11, 3)),\n",
              " ((0, 1, 1), (2, 11, 3)),\n",
              " ((1, 0, 1), (2, 11, 3)),\n",
              " ((1, 1, 0), (2, 11, 3)),\n",
              " ((0, 1, 1), (2, 11, 3)),\n",
              " ((1, 0, 0), (3, 11, 2)),\n",
              " ((0, 1, 0), (3, 11, 2)),\n",
              " ((0, 0, 1), (3, 11, 2)),\n",
              " ((1, 0, 0), (3, 11, 2)),\n",
              " ((1, 0, 1), (3, 11, 2)),\n",
              " ((1, 1, 0), (3, 11, 2)),\n",
              " ((0, 1, 1), (3, 11, 2)),\n",
              " ((1, 0, 1), (3, 11, 2)),\n",
              " ((1, 0, 0), (3, 11, 4)),\n",
              " ((0, 1, 0), (3, 11, 4)),\n",
              " ((0, 0, 1), (3, 11, 4)),\n",
              " ((1, 0, 0), (3, 11, 4)),\n",
              " ((1, 0, 1), (3, 11, 4)),\n",
              " ((1, 1, 0), (3, 11, 4)),\n",
              " ((0, 1, 1), (3, 11, 4)),\n",
              " ((1, 0, 1), (3, 11, 4)),\n",
              " ((0, 1, 0), (4, 11, 1)),\n",
              " ((0, 0, 1), (4, 11, 1)),\n",
              " ((1, 0, 0), (4, 11, 1)),\n",
              " ((0, 1, 0), (4, 11, 1)),\n",
              " ((0, 1, 1), (4, 11, 1)),\n",
              " ((1, 0, 1), (4, 11, 1)),\n",
              " ((1, 1, 0), (4, 11, 1)),\n",
              " ((0, 1, 1), (4, 11, 1)),\n",
              " ((0, 0, 0), (4, 11, 2)),\n",
              " ((0, 0, 0), (4, 11, 2)),\n",
              " ((0, 0, 0), (4, 11, 2)),\n",
              " ((0, 0, 0), (4, 11, 2)),\n",
              " ((0, 0, 1), (4, 11, 2)),\n",
              " ((1, 0, 0), (4, 11, 2)),\n",
              " ((0, 1, 0), (4, 11, 2)),\n",
              " ((0, 0, 1), (4, 11, 2)),\n",
              " ((0, 1, 0), (4, 11, 3)),\n",
              " ((0, 0, 1), (4, 11, 3)),\n",
              " ((1, 0, 0), (4, 11, 3)),\n",
              " ((0, 1, 0), (4, 11, 3)),\n",
              " ((0, 1, 1), (4, 11, 3)),\n",
              " ((1, 0, 1), (4, 11, 3)),\n",
              " ((1, 1, 0), (4, 11, 3)),\n",
              " ((0, 1, 1), (4, 11, 3))]"
            ]
          },
          "metadata": {},
          "execution_count": 12
        }
      ]
    },
    {
      "cell_type": "code",
      "source": [
        "rdd_group= map_rdd_square.groupByKey().mapValues(list)\n",
        "rdd_group.collect()\n"
      ],
      "metadata": {
        "colab": {
          "base_uri": "https://localhost:8080/"
        },
        "id": "FS2krY5wwIIZ",
        "outputId": "bbe60a6e-2920-4b5e-f4f2-841c21b00b77"
      },
      "execution_count": 13,
      "outputs": [
        {
          "output_type": "execute_result",
          "data": {
            "text/plain": [
              "[((1, 0, 0),\n",
              "  [(1, 11, 2),\n",
              "   (1, 11, 2),\n",
              "   (2, 11, 3),\n",
              "   (3, 11, 2),\n",
              "   (3, 11, 2),\n",
              "   (3, 11, 4),\n",
              "   (3, 11, 4),\n",
              "   (4, 11, 1),\n",
              "   (4, 11, 2),\n",
              "   (4, 11, 3)]),\n",
              " ((0, 1, 0),\n",
              "  [(1, 11, 2),\n",
              "   (2, 11, 3),\n",
              "   (2, 11, 3),\n",
              "   (3, 11, 2),\n",
              "   (3, 11, 4),\n",
              "   (4, 11, 1),\n",
              "   (4, 11, 1),\n",
              "   (4, 11, 2),\n",
              "   (4, 11, 3),\n",
              "   (4, 11, 3)]),\n",
              " ((0, 0, 1),\n",
              "  [(1, 11, 2),\n",
              "   (2, 11, 3),\n",
              "   (3, 11, 2),\n",
              "   (3, 11, 4),\n",
              "   (4, 11, 1),\n",
              "   (4, 11, 2),\n",
              "   (4, 11, 2),\n",
              "   (4, 11, 3)]),\n",
              " ((1, 1, 1), [(1, 11, 3), (1, 11, 3), (1, 11, 3), (1, 11, 3)]),\n",
              " ((1, 0, 1),\n",
              "  [(1, 11, 2),\n",
              "   (1, 11, 2),\n",
              "   (1, 11, 3),\n",
              "   (2, 11, 3),\n",
              "   (3, 11, 2),\n",
              "   (3, 11, 2),\n",
              "   (3, 11, 4),\n",
              "   (3, 11, 4),\n",
              "   (4, 11, 1),\n",
              "   (4, 11, 3)]),\n",
              " ((1, 1, 0),\n",
              "  [(1, 11, 2),\n",
              "   (1, 11, 3),\n",
              "   (1, 11, 3),\n",
              "   (2, 11, 3),\n",
              "   (3, 11, 2),\n",
              "   (3, 11, 4),\n",
              "   (4, 11, 1),\n",
              "   (4, 11, 3)]),\n",
              " ((0, 1, 1),\n",
              "  [(1, 11, 2),\n",
              "   (1, 11, 3),\n",
              "   (2, 11, 3),\n",
              "   (2, 11, 3),\n",
              "   (3, 11, 2),\n",
              "   (3, 11, 4),\n",
              "   (4, 11, 1),\n",
              "   (4, 11, 1),\n",
              "   (4, 11, 3),\n",
              "   (4, 11, 3)]),\n",
              " ((0, 0, 0), [(4, 11, 2), (4, 11, 2), (4, 11, 2), (4, 11, 2)])]"
            ]
          },
          "metadata": {},
          "execution_count": 13
        }
      ]
    },
    {
      "cell_type": "code",
      "source": [
        "def reduce_phase_square_same_label(values):\n",
        "    from collections import defaultdict\n",
        "\n",
        "    out_edges = defaultdict(list)\n",
        "\n",
        "    for n1, R, n2 in values:\n",
        "        if R == 11:  # We only consider edges with label 11 for this query\n",
        "            out_edges[n1].append(n2)\n",
        "\n",
        "    squares = set()\n",
        "    for n1 in out_edges:\n",
        "        for n2 in out_edges[n1]:\n",
        "            if n2 in out_edges:\n",
        "                for n3 in out_edges[n2]:\n",
        "                    if n3 in out_edges:\n",
        "                        for n4 in out_edges[n3]:\n",
        "                            if n4 in out_edges and n1 in out_edges[n4]:\n",
        "                                if len(set([n1, n2, n3, n4])) == 4:\n",
        "                                    square = tuple(sorted([n1, n2, n3, n4]))\n",
        "                                    squares.add(square)\n",
        "    return list(squares)\n",
        "\n",
        "\n",
        "\n"
      ],
      "metadata": {
        "id": "F3GJoTyVwRVi"
      },
      "execution_count": 16,
      "outputs": []
    },
    {
      "cell_type": "code",
      "source": [
        "rdd_squares = rdd_group.flatMapValues(reduce_phase_square_same_label)\n",
        "rdd_squares.collect()"
      ],
      "metadata": {
        "colab": {
          "base_uri": "https://localhost:8080/"
        },
        "id": "BuBFkePUwYGy",
        "outputId": "8013ec95-9bd0-4d05-9c6e-6e91073e299c"
      },
      "execution_count": 17,
      "outputs": [
        {
          "output_type": "execute_result",
          "data": {
            "text/plain": [
              "[((1, 0, 0), (1, 2, 3, 4)),\n",
              " ((0, 1, 0), (1, 2, 3, 4)),\n",
              " ((0, 0, 1), (1, 2, 3, 4)),\n",
              " ((1, 0, 1), (1, 2, 3, 4)),\n",
              " ((1, 1, 0), (1, 2, 3, 4)),\n",
              " ((0, 1, 1), (1, 2, 3, 4))]"
            ]
          },
          "metadata": {},
          "execution_count": 17
        }
      ]
    },
    {
      "cell_type": "markdown",
      "source": [
        "**Consulta Cuadrado: (x,11,y), (y,11,z), (z,12,w), (w,12,x)**"
      ],
      "metadata": {
        "id": "apBtt-AlotnF"
      }
    },
    {
      "cell_type": "code",
      "source": [
        "rdd = sc.parallelize(data)\n",
        "rdd.collect()"
      ],
      "metadata": {
        "colab": {
          "base_uri": "https://localhost:8080/"
        },
        "id": "y1wSFIvaXNm-",
        "outputId": "211ac5ad-b863-45ec-ca7c-abe4fc20b291"
      },
      "execution_count": 18,
      "outputs": [
        {
          "output_type": "execute_result",
          "data": {
            "text/plain": [
              "[(1, 11, 2),\n",
              " (1, 11, 3),\n",
              " (2, 11, 3),\n",
              " (3, 11, 2),\n",
              " (3, 11, 4),\n",
              " (4, 11, 1),\n",
              " (4, 11, 2),\n",
              " (4, 11, 3),\n",
              " (4, 12, 5),\n",
              " (5, 12, 1),\n",
              " (5, 12, 2),\n",
              " (5, 12, 6)]"
            ]
          },
          "metadata": {},
          "execution_count": 18
        }
      ]
    },
    {
      "cell_type": "code",
      "source": [
        "rdd_map = rdd.flatMap(lambda x: key_edge_square(x, 2))\n",
        "rdd_grouped = rdd_map.groupByKey().mapValues(list)\n",
        "rdd_grouped.collect()"
      ],
      "metadata": {
        "colab": {
          "base_uri": "https://localhost:8080/"
        },
        "id": "Qm9QyYJEXWks",
        "outputId": "cb80c70b-653c-4e81-d5a8-d5a6c9f59246"
      },
      "execution_count": 19,
      "outputs": [
        {
          "output_type": "execute_result",
          "data": {
            "text/plain": [
              "[((1, 0, 0),\n",
              "  [(1, 11, 2),\n",
              "   (1, 11, 2),\n",
              "   (2, 11, 3),\n",
              "   (3, 11, 2),\n",
              "   (3, 11, 2),\n",
              "   (3, 11, 4),\n",
              "   (3, 11, 4),\n",
              "   (4, 11, 1),\n",
              "   (4, 11, 2),\n",
              "   (4, 11, 3),\n",
              "   (4, 12, 5),\n",
              "   (5, 12, 2),\n",
              "   (5, 12, 2),\n",
              "   (5, 12, 6),\n",
              "   (5, 12, 6)]),\n",
              " ((0, 1, 0),\n",
              "  [(1, 11, 2),\n",
              "   (2, 11, 3),\n",
              "   (2, 11, 3),\n",
              "   (3, 11, 2),\n",
              "   (3, 11, 4),\n",
              "   (4, 11, 1),\n",
              "   (4, 11, 1),\n",
              "   (4, 11, 2),\n",
              "   (4, 11, 3),\n",
              "   (4, 11, 3),\n",
              "   (4, 12, 5),\n",
              "   (4, 12, 5),\n",
              "   (5, 12, 2),\n",
              "   (5, 12, 6)]),\n",
              " ((0, 0, 1),\n",
              "  [(1, 11, 2),\n",
              "   (2, 11, 3),\n",
              "   (3, 11, 2),\n",
              "   (3, 11, 4),\n",
              "   (4, 11, 1),\n",
              "   (4, 11, 2),\n",
              "   (4, 11, 2),\n",
              "   (4, 11, 3),\n",
              "   (4, 12, 5),\n",
              "   (5, 12, 2),\n",
              "   (5, 12, 6)]),\n",
              " ((1, 1, 1),\n",
              "  [(1, 11, 3),\n",
              "   (1, 11, 3),\n",
              "   (1, 11, 3),\n",
              "   (1, 11, 3),\n",
              "   (5, 12, 1),\n",
              "   (5, 12, 1),\n",
              "   (5, 12, 1),\n",
              "   (5, 12, 1)]),\n",
              " ((1, 0, 1),\n",
              "  [(1, 11, 2),\n",
              "   (1, 11, 2),\n",
              "   (1, 11, 3),\n",
              "   (2, 11, 3),\n",
              "   (3, 11, 2),\n",
              "   (3, 11, 2),\n",
              "   (3, 11, 4),\n",
              "   (3, 11, 4),\n",
              "   (4, 11, 1),\n",
              "   (4, 11, 3),\n",
              "   (4, 12, 5),\n",
              "   (5, 12, 1),\n",
              "   (5, 12, 2),\n",
              "   (5, 12, 2),\n",
              "   (5, 12, 6),\n",
              "   (5, 12, 6)]),\n",
              " ((1, 1, 0),\n",
              "  [(1, 11, 2),\n",
              "   (1, 11, 3),\n",
              "   (1, 11, 3),\n",
              "   (2, 11, 3),\n",
              "   (3, 11, 2),\n",
              "   (3, 11, 4),\n",
              "   (4, 11, 1),\n",
              "   (4, 11, 3),\n",
              "   (4, 12, 5),\n",
              "   (5, 12, 1),\n",
              "   (5, 12, 1),\n",
              "   (5, 12, 2),\n",
              "   (5, 12, 6)]),\n",
              " ((0, 1, 1),\n",
              "  [(1, 11, 2),\n",
              "   (1, 11, 3),\n",
              "   (2, 11, 3),\n",
              "   (2, 11, 3),\n",
              "   (3, 11, 2),\n",
              "   (3, 11, 4),\n",
              "   (4, 11, 1),\n",
              "   (4, 11, 1),\n",
              "   (4, 11, 3),\n",
              "   (4, 11, 3),\n",
              "   (4, 12, 5),\n",
              "   (4, 12, 5),\n",
              "   (5, 12, 1),\n",
              "   (5, 12, 2),\n",
              "   (5, 12, 6)]),\n",
              " ((0, 0, 0), [(4, 11, 2), (4, 11, 2), (4, 11, 2), (4, 11, 2)])]"
            ]
          },
          "metadata": {},
          "execution_count": 19
        }
      ]
    },
    {
      "cell_type": "code",
      "source": [
        "def reduce_phase_square_mixed_labels(values):\n",
        "    from collections import defaultdict\n",
        "\n",
        "    out_edges = defaultdict(lambda: defaultdict(list))\n",
        "\n",
        "    for n1, R, n2 in values:\n",
        "        out_edges[n1][R].append(n2)\n",
        "\n",
        "    squares = set()\n",
        "    for n1 in out_edges:\n",
        "        for n2 in out_edges[n1][11]:  # Edge (n1, 11, n2)\n",
        "            if n2 in out_edges:\n",
        "                for n3 in out_edges[n2][11]:  # Edge (n2, 11, n3)\n",
        "                    if n3 in out_edges:\n",
        "                        for n4 in out_edges[n3][12]:  # Edge (n3, 12, n4)\n",
        "                            if n4 in out_edges and n1 in out_edges[n4][12]:  # Edge (n4, 12, n1)\n",
        "                                if len(set([n1, n2, n3, n4])) == 4:\n",
        "                                    square = tuple(sorted([n1, n2, n3, n4]))\n",
        "                                    squares.add(square)\n",
        "    return list(squares)\n",
        "\n"
      ],
      "metadata": {
        "id": "5UlPHvfZXJW6"
      },
      "execution_count": 22,
      "outputs": []
    },
    {
      "cell_type": "code",
      "source": [
        "rdd_squares_mixed_labels = rdd_grouped.flatMapValues(reduce_phase_square_mixed_labels)\n",
        "rdd_squares_mixed_labels.collect()"
      ],
      "metadata": {
        "colab": {
          "base_uri": "https://localhost:8080/"
        },
        "id": "NaFVpDNXX8xt",
        "outputId": "506d6621-e300-4977-9106-37b25a4663b0"
      },
      "execution_count": 23,
      "outputs": [
        {
          "output_type": "execute_result",
          "data": {
            "text/plain": [
              "[((1, 0, 0), (2, 3, 4, 5)),\n",
              " ((0, 1, 0), (2, 3, 4, 5)),\n",
              " ((0, 0, 1), (2, 3, 4, 5)),\n",
              " ((1, 0, 1), (1, 3, 4, 5)),\n",
              " ((1, 0, 1), (2, 3, 4, 5)),\n",
              " ((1, 1, 0), (1, 3, 4, 5)),\n",
              " ((1, 1, 0), (2, 3, 4, 5)),\n",
              " ((0, 1, 1), (1, 3, 4, 5)),\n",
              " ((0, 1, 1), (2, 3, 4, 5))]"
            ]
          },
          "metadata": {},
          "execution_count": 23
        }
      ]
    }
  ],
  "metadata": {
    "colab": {
      "provenance": []
    },
    "kernelspec": {
      "display_name": "Python 3",
      "name": "python3"
    },
    "language_info": {
      "name": "python"
    }
  },
  "nbformat": 4,
  "nbformat_minor": 0
}