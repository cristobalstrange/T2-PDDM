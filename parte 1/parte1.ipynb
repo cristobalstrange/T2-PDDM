{
 "cells": [
  {
   "cell_type": "markdown",
   "metadata": {
    "id": "Dy3mfN1jzdxy"
   },
   "source": [
    "**Disclaimer:** Se utilizó ChatGPT para el Reducer de los cuadrados, aunque están basados en el reducer del triangulo que es más simple."
   ]
  },
  {
   "cell_type": "code",
   "execution_count": 8,
   "metadata": {
    "colab": {
     "base_uri": "https://localhost:8080/"
    },
    "id": "QkBAUsSy_Cuy",
    "outputId": "57c7902d-87d4-42e4-ddec-8ccc1ef9eefa"
   },
   "outputs": [
    {
     "name": "stdout",
     "output_type": "stream",
     "text": [
      "Requirement already satisfied: pyspark in /home/cristobal/pddm/venv/lib/python3.10/site-packages (3.5.1)\n",
      "Requirement already satisfied: py4j==0.10.9.7 in /home/cristobal/pddm/venv/lib/python3.10/site-packages (from pyspark) (0.10.9.7)\n"
     ]
    }
   ],
   "source": [
    "!pip install pyspark"
   ]
  },
  {
   "cell_type": "code",
   "execution_count": 9,
   "metadata": {
    "colab": {
     "base_uri": "https://localhost:8080/",
     "height": 193
    },
    "id": "-jt5My6s_PND",
    "outputId": "9ca9a1b3-2c41-4ff3-fcca-6f1be47e7ad1"
   },
   "outputs": [
    {
     "name": "stderr",
     "output_type": "stream",
     "text": [
      "24/06/15 20:21:20 WARN Utils: Your hostname, cristobal-IdeaPad-3-15ALC6 resolves to a loopback address: 127.0.1.1; using 192.168.1.160 instead (on interface wlp1s0)\n",
      "24/06/15 20:21:20 WARN Utils: Set SPARK_LOCAL_IP if you need to bind to another address\n",
      "Setting default log level to \"WARN\".\n",
      "To adjust logging level use sc.setLogLevel(newLevel). For SparkR, use setLogLevel(newLevel).\n",
      "24/06/15 20:21:26 WARN NativeCodeLoader: Unable to load native-hadoop library for your platform... using builtin-java classes where applicable\n"
     ]
    },
    {
     "data": {
      "text/html": [
       "\n",
       "        <div>\n",
       "            <p><b>SparkContext</b></p>\n",
       "\n",
       "            <p><a href=\"http://192.168.1.160:4040\">Spark UI</a></p>\n",
       "\n",
       "            <dl>\n",
       "              <dt>Version</dt>\n",
       "                <dd><code>v3.5.1</code></dd>\n",
       "              <dt>Master</dt>\n",
       "                <dd><code>local[*]</code></dd>\n",
       "              <dt>AppName</dt>\n",
       "                <dd><code>pyspark-shell</code></dd>\n",
       "            </dl>\n",
       "        </div>\n",
       "        "
      ],
      "text/plain": [
       "<SparkContext master=local[*] appName=pyspark-shell>"
      ]
     },
     "execution_count": 9,
     "metadata": {},
     "output_type": "execute_result"
    }
   ],
   "source": [
    "from pyspark.sql import SparkSession\n",
    "\n",
    "spark = SparkSession.builder \\\n",
    "    .getOrCreate()\n",
    "\n",
    "sc = spark.sparkContext\n",
    "sc"
   ]
  },
  {
   "cell_type": "code",
   "execution_count": 10,
   "metadata": {
    "id": "U2Ex5QXrRIem"
   },
   "outputs": [],
   "source": [
    "data = [\n",
    "    (1,11,2),(1,11,3),(2,11,3),\n",
    "    (3,11,2),(3,11,4),(4,11,1),\n",
    "    (4,11,2),(4,11,3),(4,12,5),\n",
    "    (5,12,1),(5,12,2),(5,12,6)\n",
    "    ]"
   ]
  },
  {
   "cell_type": "markdown",
   "metadata": {
    "id": "W2kU7ryyPCla"
   },
   "source": [
    "**Parte 1**"
   ]
  },
  {
   "cell_type": "markdown",
   "metadata": {
    "id": "egeWCWGCPHDV"
   },
   "source": [
    "1.1 Precalentamiento: Triángulos.\n",
    "\n"
   ]
  },
  {
   "cell_type": "markdown",
   "metadata": {
    "id": "svN3U-UkoVdh"
   },
   "source": [
    "**Fase de Map.**\n",
    "\n",
    "Cada mapper tendra una cierta cantidad de aristas del grafo. Para cada arista (n1, R, n2),\n",
    "el mapper debe hacer lo siguiente.\n",
    "\n",
    "1. Hashear los nodos: b1 = h(n1), b2 = h(n2).\n",
    "2. Como el triangulo que formemos solo puede mapear la variable x a n1 e y a n2, la arista (n1, R, n2)\n",
    "solo podrıa formar parte de un trıangulo de la forma (n1, n2, a) para un a ∈V . Entonces, generamos b\n",
    "llaves (b1, b2, 0), . . . , (b1, b2, b −1), y emitimos b mensajes con el contenido de la arista, uno para cada\n",
    "llave: ((b1, b2, 0), (n1, R, n2)), . . . , ((b1, b2, b −1), (n1, R, n2))"
   ]
  },
  {
   "cell_type": "markdown",
   "metadata": {
    "id": "pAZC9GMGRCO3"
   },
   "source": [
    "Para la primera parte, realizaremos un una función que permita hashear de la forma (key, arista)"
   ]
  },
  {
   "cell_type": "markdown",
   "metadata": {
    "id": "9jAYKhEqQd2W"
   },
   "source": [
    "**Probamos para Triangulos (X,11,Y), (Y,11,Z), (Z,11,X)**"
   ]
  },
  {
   "cell_type": "code",
   "execution_count": 11,
   "metadata": {
    "id": "t-qvJW2SPtg1"
   },
   "outputs": [],
   "source": [
    "def key_edge(edge, b):\n",
    "  map = [] # Lista que contiene los pares key, arista para una determinada edge\n",
    "  n1, label, n2 = edge # Descomponemos la arista entregada\n",
    "  for i in range (b): #Iteramos en los valores de mod 2: 0,1\n",
    "  #agregamos los pares ((b1, b2, 0), (n1, R, n2)), . . . , ((b1, b2, b −1), (n1, R, n2))\n",
    "    map.append(((n1%b, n2%b, i), edge)) #(x,11,y)\n",
    "    map.append(((i, n1%b, n2%b), edge))  # (y, 11, z)\n",
    "    map.append(((n2%b, i, n1%b), edge))  # (z, 11, x)\n",
    "  return map\n",
    "\n"
   ]
  },
  {
   "cell_type": "code",
   "execution_count": 12,
   "metadata": {
    "colab": {
     "base_uri": "https://localhost:8080/"
    },
    "id": "NkUHeqkhRBNT",
    "outputId": "c53a8317-76fc-428e-d828-2df3f77d0dc4"
   },
   "outputs": [
    {
     "data": {
      "text/plain": [
       "[(1, 11, 2),\n",
       " (1, 11, 3),\n",
       " (2, 11, 3),\n",
       " (3, 11, 2),\n",
       " (3, 11, 4),\n",
       " (4, 11, 1),\n",
       " (4, 11, 2),\n",
       " (4, 11, 3)]"
      ]
     },
     "execution_count": 12,
     "metadata": {},
     "output_type": "execute_result"
    }
   ],
   "source": [
    "data_triangles = [edge for edge in data if edge[1] == 11]\n",
    "\n",
    "rdd = sc.parallelize(data_triangles)\n",
    "rdd.collect()\n"
   ]
  },
  {
   "cell_type": "code",
   "execution_count": 13,
   "metadata": {
    "colab": {
     "base_uri": "https://localhost:8080/"
    },
    "id": "-SztVh73D0Ys",
    "outputId": "58533c60-11b1-4d7f-80e6-bb04eefd26e6"
   },
   "outputs": [
    {
     "name": "stderr",
     "output_type": "stream",
     "text": [
      "                                                                                \r"
     ]
    },
    {
     "data": {
      "text/plain": [
       "[((1, 0, 0), (1, 11, 2)),\n",
       " ((0, 1, 0), (1, 11, 2)),\n",
       " ((0, 0, 1), (1, 11, 2)),\n",
       " ((1, 0, 1), (1, 11, 2)),\n",
       " ((1, 1, 0), (1, 11, 2)),\n",
       " ((0, 1, 1), (1, 11, 2)),\n",
       " ((1, 1, 0), (1, 11, 3)),\n",
       " ((0, 1, 1), (1, 11, 3)),\n",
       " ((1, 0, 1), (1, 11, 3)),\n",
       " ((1, 1, 1), (1, 11, 3)),\n",
       " ((1, 1, 1), (1, 11, 3)),\n",
       " ((1, 1, 1), (1, 11, 3)),\n",
       " ((0, 1, 0), (2, 11, 3)),\n",
       " ((0, 0, 1), (2, 11, 3)),\n",
       " ((1, 0, 0), (2, 11, 3)),\n",
       " ((0, 1, 1), (2, 11, 3)),\n",
       " ((1, 0, 1), (2, 11, 3)),\n",
       " ((1, 1, 0), (2, 11, 3)),\n",
       " ((1, 0, 0), (3, 11, 2)),\n",
       " ((0, 1, 0), (3, 11, 2)),\n",
       " ((0, 0, 1), (3, 11, 2)),\n",
       " ((1, 0, 1), (3, 11, 2)),\n",
       " ((1, 1, 0), (3, 11, 2)),\n",
       " ((0, 1, 1), (3, 11, 2)),\n",
       " ((1, 0, 0), (3, 11, 4)),\n",
       " ((0, 1, 0), (3, 11, 4)),\n",
       " ((0, 0, 1), (3, 11, 4)),\n",
       " ((1, 0, 1), (3, 11, 4)),\n",
       " ((1, 1, 0), (3, 11, 4)),\n",
       " ((0, 1, 1), (3, 11, 4)),\n",
       " ((0, 1, 0), (4, 11, 1)),\n",
       " ((0, 0, 1), (4, 11, 1)),\n",
       " ((1, 0, 0), (4, 11, 1)),\n",
       " ((0, 1, 1), (4, 11, 1)),\n",
       " ((1, 0, 1), (4, 11, 1)),\n",
       " ((1, 1, 0), (4, 11, 1)),\n",
       " ((0, 0, 0), (4, 11, 2)),\n",
       " ((0, 0, 0), (4, 11, 2)),\n",
       " ((0, 0, 0), (4, 11, 2)),\n",
       " ((0, 0, 1), (4, 11, 2)),\n",
       " ((1, 0, 0), (4, 11, 2)),\n",
       " ((0, 1, 0), (4, 11, 2)),\n",
       " ((0, 1, 0), (4, 11, 3)),\n",
       " ((0, 0, 1), (4, 11, 3)),\n",
       " ((1, 0, 0), (4, 11, 3)),\n",
       " ((0, 1, 1), (4, 11, 3)),\n",
       " ((1, 0, 1), (4, 11, 3)),\n",
       " ((1, 1, 0), (4, 11, 3))]"
      ]
     },
     "execution_count": 13,
     "metadata": {},
     "output_type": "execute_result"
    }
   ],
   "source": [
    "map_rdd = rdd.flatMap(lambda x: key_edge(x, 2))\n",
    "map_rdd.collect()"
   ]
  },
  {
   "cell_type": "markdown",
   "metadata": {
    "id": "hUg_FTIydUpZ"
   },
   "source": [
    "**Fase de Reduce.**\n",
    "\n",
    " Los reducers reciben siempre los mensajes correspondientes a alguna llave (b1, b2, b3).\n",
    "Pero en el valor de esa llave se encuentran aristas. Todas estas aristas forman un pequeño grafo , y el reducer\n",
    "emite como respuesta todas las tuplas (n1, n2, n3) correspondientes a los triangulos que detecta en su grafo"
   ]
  },
  {
   "cell_type": "code",
   "execution_count": 14,
   "metadata": {
    "colab": {
     "base_uri": "https://localhost:8080/"
    },
    "id": "revxsn6FBOwP",
    "outputId": "aaaede32-87ee-41c3-e626-616dc16d0cf6"
   },
   "outputs": [
    {
     "name": "stderr",
     "output_type": "stream",
     "text": [
      "                                                                                \r"
     ]
    },
    {
     "data": {
      "text/plain": [
       "[((1, 0, 0),\n",
       "  [(1, 11, 2),\n",
       "   (2, 11, 3),\n",
       "   (3, 11, 2),\n",
       "   (3, 11, 4),\n",
       "   (4, 11, 1),\n",
       "   (4, 11, 2),\n",
       "   (4, 11, 3)]),\n",
       " ((0, 1, 0),\n",
       "  [(1, 11, 2),\n",
       "   (2, 11, 3),\n",
       "   (3, 11, 2),\n",
       "   (3, 11, 4),\n",
       "   (4, 11, 1),\n",
       "   (4, 11, 2),\n",
       "   (4, 11, 3)]),\n",
       " ((1, 0, 1),\n",
       "  [(1, 11, 2),\n",
       "   (1, 11, 3),\n",
       "   (2, 11, 3),\n",
       "   (3, 11, 2),\n",
       "   (3, 11, 4),\n",
       "   (4, 11, 1),\n",
       "   (4, 11, 3)]),\n",
       " ((0, 0, 1),\n",
       "  [(1, 11, 2),\n",
       "   (2, 11, 3),\n",
       "   (3, 11, 2),\n",
       "   (3, 11, 4),\n",
       "   (4, 11, 1),\n",
       "   (4, 11, 2),\n",
       "   (4, 11, 3)]),\n",
       " ((1, 1, 0),\n",
       "  [(1, 11, 2),\n",
       "   (1, 11, 3),\n",
       "   (2, 11, 3),\n",
       "   (3, 11, 2),\n",
       "   (3, 11, 4),\n",
       "   (4, 11, 1),\n",
       "   (4, 11, 3)]),\n",
       " ((0, 0, 0), [(4, 11, 2), (4, 11, 2), (4, 11, 2)]),\n",
       " ((0, 1, 1),\n",
       "  [(1, 11, 2),\n",
       "   (1, 11, 3),\n",
       "   (2, 11, 3),\n",
       "   (3, 11, 2),\n",
       "   (3, 11, 4),\n",
       "   (4, 11, 1),\n",
       "   (4, 11, 3)]),\n",
       " ((1, 1, 1), [(1, 11, 3), (1, 11, 3), (1, 11, 3)])]"
      ]
     },
     "execution_count": 14,
     "metadata": {},
     "output_type": "execute_result"
    }
   ],
   "source": [
    "group_rdd = map_rdd.groupByKey().mapValues(list)\n",
    "group_rdd.collect()"
   ]
  },
  {
   "cell_type": "markdown",
   "metadata": {
    "id": "WI4ep5UNWoKM"
   },
   "source": [
    "**Reducer Triangulos**"
   ]
  },
  {
   "cell_type": "code",
   "execution_count": 15,
   "metadata": {
    "id": "tT-1f4g4XP3b"
   },
   "outputs": [],
   "source": [
    "def reduce_phase(values):\n",
    "    from collections import defaultdict\n",
    "    edges_by_node = defaultdict(list)\n",
    "    for n1, R, n2 in values:\n",
    "        edges_by_node[(n1, n2)].append(R)\n",
    "\n",
    "    # Find triangles\n",
    "    triangles = set()\n",
    "    nodes = list(edges_by_node.keys())\n",
    "    for i in range(len(nodes)):\n",
    "        for j in range(i+1, len(nodes)):\n",
    "            for k in range(j+1, len(nodes)):\n",
    "                n1, n2 = nodes[i]\n",
    "                n2_2, n3 = nodes[j]\n",
    "                n3_2, n1_2 = nodes[k]\n",
    "                if n2 == n2_2 and n3 == n3_2 and n1 == n1_2:\n",
    "                    triangles.add((n1, n2, n3))\n",
    "    return list(triangles)\n"
   ]
  },
  {
   "cell_type": "code",
   "execution_count": 16,
   "metadata": {
    "colab": {
     "base_uri": "https://localhost:8080/"
    },
    "id": "-TnIsbY7dNKK",
    "outputId": "de39fd79-7e20-4ec7-e6bd-fd15e730a87c"
   },
   "outputs": [
    {
     "data": {
      "text/plain": [
       "[((1, 0, 0), (2, 3, 4)),\n",
       " ((0, 1, 0), (2, 3, 4)),\n",
       " ((1, 0, 1), (1, 3, 4)),\n",
       " ((0, 0, 1), (2, 3, 4)),\n",
       " ((1, 1, 0), (1, 3, 4)),\n",
       " ((0, 1, 1), (1, 3, 4))]"
      ]
     },
     "execution_count": 16,
     "metadata": {},
     "output_type": "execute_result"
    }
   ],
   "source": [
    "rdd_triangles = group_rdd.flatMapValues(reduce_phase)\n",
    "rdd_triangles.collect()"
   ]
  },
  {
   "cell_type": "markdown",
   "metadata": {
    "id": "fSUU49-3oruu"
   },
   "source": [
    "**Consulta Cuadrado (x,11,y), (y,11,z), (z,11,w), (w,11,x)**"
   ]
  },
  {
   "cell_type": "code",
   "execution_count": 17,
   "metadata": {
    "id": "NjcKK2cTnssM"
   },
   "outputs": [],
   "source": [
    "def key_edge_square(edge, b):\n",
    "  map = [] # Lista que contiene los pares key, arista para una determinada edge\n",
    "  n1, label, n2 = edge # Descomponemos la arista entregada\n",
    "  for i in range (b): #Iteramos en los valores de mod\n",
    "  #agregamos los pares ((b1, b2, 0), (n1, R, n2)), . . . , ((b1, b2, b −1), (n1, R, n2))\n",
    "    map.append(((n1%b, n2%b, i), edge)) #(x,11,y)\n",
    "    map.append(((i, n1%b, n2%b), edge))  # (y, 11, z)\n",
    "    map.append(((n2%b, i, n1%b), edge))  # (z, 11, w)\n",
    "    map.append(((n1%b, n2%b, i), edge))  # (w, 11, x)\n",
    "  return map\n"
   ]
  },
  {
   "cell_type": "code",
   "execution_count": 18,
   "metadata": {
    "colab": {
     "base_uri": "https://localhost:8080/"
    },
    "id": "Q6o97l33pGds",
    "outputId": "d3cdf460-09a3-48f3-8867-ae5ee3e6dfb8"
   },
   "outputs": [
    {
     "data": {
      "text/plain": [
       "[(1, 11, 2),\n",
       " (1, 11, 3),\n",
       " (2, 11, 3),\n",
       " (3, 11, 2),\n",
       " (3, 11, 4),\n",
       " (4, 11, 1),\n",
       " (4, 11, 2),\n",
       " (4, 11, 3)]"
      ]
     },
     "execution_count": 18,
     "metadata": {},
     "output_type": "execute_result"
    }
   ],
   "source": [
    "rdd = sc.parallelize(data_triangles)\n",
    "rdd.collect()"
   ]
  },
  {
   "cell_type": "code",
   "execution_count": 19,
   "metadata": {
    "colab": {
     "base_uri": "https://localhost:8080/"
    },
    "id": "3p5j5MqGpQUH",
    "outputId": "9c38751b-c5d2-4d75-d9d4-4c3151936b7e",
    "scrolled": true
   },
   "outputs": [
    {
     "data": {
      "text/plain": [
       "[((1, 0, 0), (1, 11, 2)),\n",
       " ((0, 1, 0), (1, 11, 2)),\n",
       " ((0, 0, 1), (1, 11, 2)),\n",
       " ((1, 0, 0), (1, 11, 2)),\n",
       " ((1, 0, 1), (1, 11, 2)),\n",
       " ((1, 1, 0), (1, 11, 2)),\n",
       " ((0, 1, 1), (1, 11, 2)),\n",
       " ((1, 0, 1), (1, 11, 2)),\n",
       " ((1, 1, 0), (1, 11, 3)),\n",
       " ((0, 1, 1), (1, 11, 3)),\n",
       " ((1, 0, 1), (1, 11, 3)),\n",
       " ((1, 1, 0), (1, 11, 3)),\n",
       " ((1, 1, 1), (1, 11, 3)),\n",
       " ((1, 1, 1), (1, 11, 3)),\n",
       " ((1, 1, 1), (1, 11, 3)),\n",
       " ((1, 1, 1), (1, 11, 3)),\n",
       " ((0, 1, 0), (2, 11, 3)),\n",
       " ((0, 0, 1), (2, 11, 3)),\n",
       " ((1, 0, 0), (2, 11, 3)),\n",
       " ((0, 1, 0), (2, 11, 3)),\n",
       " ((0, 1, 1), (2, 11, 3)),\n",
       " ((1, 0, 1), (2, 11, 3)),\n",
       " ((1, 1, 0), (2, 11, 3)),\n",
       " ((0, 1, 1), (2, 11, 3)),\n",
       " ((1, 0, 0), (3, 11, 2)),\n",
       " ((0, 1, 0), (3, 11, 2)),\n",
       " ((0, 0, 1), (3, 11, 2)),\n",
       " ((1, 0, 0), (3, 11, 2)),\n",
       " ((1, 0, 1), (3, 11, 2)),\n",
       " ((1, 1, 0), (3, 11, 2)),\n",
       " ((0, 1, 1), (3, 11, 2)),\n",
       " ((1, 0, 1), (3, 11, 2)),\n",
       " ((1, 0, 0), (3, 11, 4)),\n",
       " ((0, 1, 0), (3, 11, 4)),\n",
       " ((0, 0, 1), (3, 11, 4)),\n",
       " ((1, 0, 0), (3, 11, 4)),\n",
       " ((1, 0, 1), (3, 11, 4)),\n",
       " ((1, 1, 0), (3, 11, 4)),\n",
       " ((0, 1, 1), (3, 11, 4)),\n",
       " ((1, 0, 1), (3, 11, 4)),\n",
       " ((0, 1, 0), (4, 11, 1)),\n",
       " ((0, 0, 1), (4, 11, 1)),\n",
       " ((1, 0, 0), (4, 11, 1)),\n",
       " ((0, 1, 0), (4, 11, 1)),\n",
       " ((0, 1, 1), (4, 11, 1)),\n",
       " ((1, 0, 1), (4, 11, 1)),\n",
       " ((1, 1, 0), (4, 11, 1)),\n",
       " ((0, 1, 1), (4, 11, 1)),\n",
       " ((0, 0, 0), (4, 11, 2)),\n",
       " ((0, 0, 0), (4, 11, 2)),\n",
       " ((0, 0, 0), (4, 11, 2)),\n",
       " ((0, 0, 0), (4, 11, 2)),\n",
       " ((0, 0, 1), (4, 11, 2)),\n",
       " ((1, 0, 0), (4, 11, 2)),\n",
       " ((0, 1, 0), (4, 11, 2)),\n",
       " ((0, 0, 1), (4, 11, 2)),\n",
       " ((0, 1, 0), (4, 11, 3)),\n",
       " ((0, 0, 1), (4, 11, 3)),\n",
       " ((1, 0, 0), (4, 11, 3)),\n",
       " ((0, 1, 0), (4, 11, 3)),\n",
       " ((0, 1, 1), (4, 11, 3)),\n",
       " ((1, 0, 1), (4, 11, 3)),\n",
       " ((1, 1, 0), (4, 11, 3)),\n",
       " ((0, 1, 1), (4, 11, 3))]"
      ]
     },
     "execution_count": 19,
     "metadata": {},
     "output_type": "execute_result"
    }
   ],
   "source": [
    "map_rdd_square = rdd.flatMap(lambda x: key_edge_square(x, 2))\n",
    "map_rdd_square.collect()"
   ]
  },
  {
   "cell_type": "code",
   "execution_count": 20,
   "metadata": {
    "colab": {
     "base_uri": "https://localhost:8080/"
    },
    "id": "FS2krY5wwIIZ",
    "outputId": "bbe60a6e-2920-4b5e-f4f2-841c21b00b77",
    "scrolled": true
   },
   "outputs": [
    {
     "data": {
      "text/plain": [
       "[((1, 0, 0),\n",
       "  [(1, 11, 2),\n",
       "   (1, 11, 2),\n",
       "   (2, 11, 3),\n",
       "   (3, 11, 2),\n",
       "   (3, 11, 2),\n",
       "   (3, 11, 4),\n",
       "   (3, 11, 4),\n",
       "   (4, 11, 1),\n",
       "   (4, 11, 2),\n",
       "   (4, 11, 3)]),\n",
       " ((0, 1, 0),\n",
       "  [(1, 11, 2),\n",
       "   (2, 11, 3),\n",
       "   (2, 11, 3),\n",
       "   (3, 11, 2),\n",
       "   (3, 11, 4),\n",
       "   (4, 11, 1),\n",
       "   (4, 11, 1),\n",
       "   (4, 11, 2),\n",
       "   (4, 11, 3),\n",
       "   (4, 11, 3)]),\n",
       " ((1, 0, 1),\n",
       "  [(1, 11, 2),\n",
       "   (1, 11, 2),\n",
       "   (1, 11, 3),\n",
       "   (2, 11, 3),\n",
       "   (3, 11, 2),\n",
       "   (3, 11, 2),\n",
       "   (3, 11, 4),\n",
       "   (3, 11, 4),\n",
       "   (4, 11, 1),\n",
       "   (4, 11, 3)]),\n",
       " ((0, 0, 1),\n",
       "  [(1, 11, 2),\n",
       "   (2, 11, 3),\n",
       "   (3, 11, 2),\n",
       "   (3, 11, 4),\n",
       "   (4, 11, 1),\n",
       "   (4, 11, 2),\n",
       "   (4, 11, 2),\n",
       "   (4, 11, 3)]),\n",
       " ((1, 1, 0),\n",
       "  [(1, 11, 2),\n",
       "   (1, 11, 3),\n",
       "   (1, 11, 3),\n",
       "   (2, 11, 3),\n",
       "   (3, 11, 2),\n",
       "   (3, 11, 4),\n",
       "   (4, 11, 1),\n",
       "   (4, 11, 3)]),\n",
       " ((0, 0, 0), [(4, 11, 2), (4, 11, 2), (4, 11, 2), (4, 11, 2)]),\n",
       " ((0, 1, 1),\n",
       "  [(1, 11, 2),\n",
       "   (1, 11, 3),\n",
       "   (2, 11, 3),\n",
       "   (2, 11, 3),\n",
       "   (3, 11, 2),\n",
       "   (3, 11, 4),\n",
       "   (4, 11, 1),\n",
       "   (4, 11, 1),\n",
       "   (4, 11, 3),\n",
       "   (4, 11, 3)]),\n",
       " ((1, 1, 1), [(1, 11, 3), (1, 11, 3), (1, 11, 3), (1, 11, 3)])]"
      ]
     },
     "execution_count": 20,
     "metadata": {},
     "output_type": "execute_result"
    }
   ],
   "source": [
    "rdd_group= map_rdd_square.groupByKey().mapValues(list)\n",
    "rdd_group.collect()\n"
   ]
  },
  {
   "cell_type": "code",
   "execution_count": 21,
   "metadata": {
    "id": "F3GJoTyVwRVi"
   },
   "outputs": [],
   "source": [
    "def reduce_phase_square_same_label(values):\n",
    "    from collections import defaultdict\n",
    "\n",
    "    out_edges = defaultdict(list)\n",
    "\n",
    "    for n1, R, n2 in values:\n",
    "        if R == 11:  # We only consider edges with label 11 for this query\n",
    "            out_edges[n1].append(n2)\n",
    "\n",
    "    squares = set()\n",
    "    for n1 in out_edges:\n",
    "        for n2 in out_edges[n1]:\n",
    "            if n2 in out_edges:\n",
    "                for n3 in out_edges[n2]:\n",
    "                    if n3 in out_edges:\n",
    "                        for n4 in out_edges[n3]:\n",
    "                            if n4 in out_edges and n1 in out_edges[n4]:\n",
    "                                if len(set([n1, n2, n3, n4])) == 4:\n",
    "                                    square = tuple(sorted([n1, n2, n3, n4]))\n",
    "                                    squares.add(square)\n",
    "    return list(squares)\n",
    "\n",
    "\n",
    "\n"
   ]
  },
  {
   "cell_type": "code",
   "execution_count": 22,
   "metadata": {
    "colab": {
     "base_uri": "https://localhost:8080/"
    },
    "id": "BuBFkePUwYGy",
    "outputId": "8013ec95-9bd0-4d05-9c6e-6e91073e299c"
   },
   "outputs": [
    {
     "data": {
      "text/plain": [
       "[((1, 0, 0), (1, 2, 3, 4)),\n",
       " ((0, 1, 0), (1, 2, 3, 4)),\n",
       " ((1, 0, 1), (1, 2, 3, 4)),\n",
       " ((0, 0, 1), (1, 2, 3, 4)),\n",
       " ((1, 1, 0), (1, 2, 3, 4)),\n",
       " ((0, 1, 1), (1, 2, 3, 4))]"
      ]
     },
     "execution_count": 22,
     "metadata": {},
     "output_type": "execute_result"
    }
   ],
   "source": [
    "rdd_squares = rdd_group.flatMapValues(reduce_phase_square_same_label)\n",
    "rdd_squares.collect()"
   ]
  },
  {
   "cell_type": "markdown",
   "metadata": {
    "id": "apBtt-AlotnF"
   },
   "source": [
    "**Consulta Cuadrado: (x,11,y), (y,11,z), (z,12,w), (w,12,x)**"
   ]
  },
  {
   "cell_type": "code",
   "execution_count": 23,
   "metadata": {
    "colab": {
     "base_uri": "https://localhost:8080/"
    },
    "id": "y1wSFIvaXNm-",
    "outputId": "211ac5ad-b863-45ec-ca7c-abe4fc20b291"
   },
   "outputs": [
    {
     "data": {
      "text/plain": [
       "[(1, 11, 2),\n",
       " (1, 11, 3),\n",
       " (2, 11, 3),\n",
       " (3, 11, 2),\n",
       " (3, 11, 4),\n",
       " (4, 11, 1),\n",
       " (4, 11, 2),\n",
       " (4, 11, 3),\n",
       " (4, 12, 5),\n",
       " (5, 12, 1),\n",
       " (5, 12, 2),\n",
       " (5, 12, 6)]"
      ]
     },
     "execution_count": 23,
     "metadata": {},
     "output_type": "execute_result"
    }
   ],
   "source": [
    "rdd = sc.parallelize(data)\n",
    "rdd.collect()"
   ]
  },
  {
   "cell_type": "code",
   "execution_count": 24,
   "metadata": {
    "colab": {
     "base_uri": "https://localhost:8080/"
    },
    "id": "Qm9QyYJEXWks",
    "outputId": "cb80c70b-653c-4e81-d5a8-d5a6c9f59246",
    "scrolled": true
   },
   "outputs": [
    {
     "data": {
      "text/plain": [
       "[((1, 0, 0),\n",
       "  [(1, 11, 2),\n",
       "   (1, 11, 2),\n",
       "   (2, 11, 3),\n",
       "   (3, 11, 2),\n",
       "   (3, 11, 2),\n",
       "   (3, 11, 4),\n",
       "   (3, 11, 4),\n",
       "   (4, 11, 1),\n",
       "   (4, 11, 2),\n",
       "   (4, 11, 3),\n",
       "   (4, 12, 5),\n",
       "   (5, 12, 2),\n",
       "   (5, 12, 2),\n",
       "   (5, 12, 6),\n",
       "   (5, 12, 6)]),\n",
       " ((0, 1, 0),\n",
       "  [(1, 11, 2),\n",
       "   (2, 11, 3),\n",
       "   (2, 11, 3),\n",
       "   (3, 11, 2),\n",
       "   (3, 11, 4),\n",
       "   (4, 11, 1),\n",
       "   (4, 11, 1),\n",
       "   (4, 11, 2),\n",
       "   (4, 11, 3),\n",
       "   (4, 11, 3),\n",
       "   (4, 12, 5),\n",
       "   (4, 12, 5),\n",
       "   (5, 12, 2),\n",
       "   (5, 12, 6)]),\n",
       " ((1, 0, 1),\n",
       "  [(1, 11, 2),\n",
       "   (1, 11, 2),\n",
       "   (1, 11, 3),\n",
       "   (2, 11, 3),\n",
       "   (3, 11, 2),\n",
       "   (3, 11, 2),\n",
       "   (3, 11, 4),\n",
       "   (3, 11, 4),\n",
       "   (4, 11, 1),\n",
       "   (4, 11, 3),\n",
       "   (4, 12, 5),\n",
       "   (5, 12, 1),\n",
       "   (5, 12, 2),\n",
       "   (5, 12, 2),\n",
       "   (5, 12, 6),\n",
       "   (5, 12, 6)]),\n",
       " ((0, 0, 1),\n",
       "  [(1, 11, 2),\n",
       "   (2, 11, 3),\n",
       "   (3, 11, 2),\n",
       "   (3, 11, 4),\n",
       "   (4, 11, 1),\n",
       "   (4, 11, 2),\n",
       "   (4, 11, 2),\n",
       "   (4, 11, 3),\n",
       "   (4, 12, 5),\n",
       "   (5, 12, 2),\n",
       "   (5, 12, 6)]),\n",
       " ((1, 1, 0),\n",
       "  [(1, 11, 2),\n",
       "   (1, 11, 3),\n",
       "   (1, 11, 3),\n",
       "   (2, 11, 3),\n",
       "   (3, 11, 2),\n",
       "   (3, 11, 4),\n",
       "   (4, 11, 1),\n",
       "   (4, 11, 3),\n",
       "   (4, 12, 5),\n",
       "   (5, 12, 1),\n",
       "   (5, 12, 1),\n",
       "   (5, 12, 2),\n",
       "   (5, 12, 6)]),\n",
       " ((0, 0, 0), [(4, 11, 2), (4, 11, 2), (4, 11, 2), (4, 11, 2)]),\n",
       " ((0, 1, 1),\n",
       "  [(1, 11, 2),\n",
       "   (1, 11, 3),\n",
       "   (2, 11, 3),\n",
       "   (2, 11, 3),\n",
       "   (3, 11, 2),\n",
       "   (3, 11, 4),\n",
       "   (4, 11, 1),\n",
       "   (4, 11, 1),\n",
       "   (4, 11, 3),\n",
       "   (4, 11, 3),\n",
       "   (4, 12, 5),\n",
       "   (4, 12, 5),\n",
       "   (5, 12, 1),\n",
       "   (5, 12, 2),\n",
       "   (5, 12, 6)]),\n",
       " ((1, 1, 1),\n",
       "  [(1, 11, 3),\n",
       "   (1, 11, 3),\n",
       "   (1, 11, 3),\n",
       "   (1, 11, 3),\n",
       "   (5, 12, 1),\n",
       "   (5, 12, 1),\n",
       "   (5, 12, 1),\n",
       "   (5, 12, 1)])]"
      ]
     },
     "execution_count": 24,
     "metadata": {},
     "output_type": "execute_result"
    }
   ],
   "source": [
    "rdd_map = rdd.flatMap(lambda x: key_edge_square(x, 2))\n",
    "rdd_grouped = rdd_map.groupByKey().mapValues(list)\n",
    "rdd_grouped.collect()"
   ]
  },
  {
   "cell_type": "code",
   "execution_count": 38,
   "metadata": {
    "id": "5UlPHvfZXJW6"
   },
   "outputs": [],
   "source": [
    "def reduce_phase_square_mixed_labels(values):\n",
    "    from collections import defaultdict\n",
    "\n",
    "    out_edges = defaultdict(lambda: defaultdict(list))\n",
    "\n",
    "    for n1, R, n2 in values:\n",
    "        out_edges[n1][R].append(n2)\n",
    "\n",
    "    squares = set()\n",
    "    for n1 in out_edges:\n",
    "        for n2 in out_edges[n1][11]:  # Edge (n1, 11, n2)\n",
    "            if n2 in out_edges:\n",
    "                for n3 in out_edges[n2][11]:  # Edge (n2, 11, n3)\n",
    "                    if n3 in out_edges:\n",
    "                        for n4 in out_edges[n3][12]:  # Edge (n3, 12, n4)\n",
    "                            if n4 in out_edges and n1 in out_edges[n4][12]:  # Edge (n4, 12, n1)\n",
    "                                if len(set([n1, n2, n3, n4])) == 4:\n",
    "                                    square = tuple(sorted([n1, n2, n3, n4]))\n",
    "                                    squares.add(square)\n",
    "    return list(squares)\n",
    "\n"
   ]
  },
  {
   "cell_type": "code",
   "execution_count": 26,
   "metadata": {
    "colab": {
     "base_uri": "https://localhost:8080/"
    },
    "id": "NaFVpDNXX8xt",
    "outputId": "506d6621-e300-4977-9106-37b25a4663b0"
   },
   "outputs": [
    {
     "name": "stdout",
     "output_type": "stream",
     "text": [
      "(2, 3, 4, 5)\n",
      "(2, 3, 4, 5)\n",
      "(1, 3, 4, 5)\n",
      "(2, 3, 4, 5)\n",
      "(2, 3, 4, 5)\n",
      "(1, 3, 4, 5)\n",
      "(2, 3, 4, 5)\n",
      "(1, 3, 4, 5)\n",
      "(2, 3, 4, 5)\n"
     ]
    }
   ],
   "source": [
    "rdd_squares_mixed_labels = rdd_grouped.flatMapValues(reduce_phase_square_mixed_labels)\n",
    "for l in rdd_squares_mixed_labels.collect():\n",
    "    print(l[1])"
   ]
  },
  {
   "cell_type": "markdown",
   "metadata": {},
   "source": [
    "# Parte \"3\"\n",
    "Asume ahora que recibes un subgrafo como tres arreglos: un arreglo A con las variables, otro L con los\n",
    "tipos de aristas, y una matriz M de tamaño |A| × |L| × |A| que tiene un uno en la posicion (x, R, y) si\n",
    "y solo si (x, R, y) es una arista de tu subgrafo.\n",
    "\n",
    "Implementa un programa en PySpark que reciba un patrón que tiene solo variables, y exactamente\n",
    "cuatro variables, y entregue todos los matches de ese patrón (como tuplas de 4 nodos) en el grafo\n",
    "usando b⁴ reducers, donde b es un parámetro."
   ]
  },
  {
   "cell_type": "code",
   "execution_count": 32,
   "metadata": {},
   "outputs": [],
   "source": [
    "A = [\"w\",\"x\",\"y\",\"z\"]\n",
    "L = [11,12]\n",
    "     # 11       12        # Parte izq de la arista\n",
    "M = [[[0,0,0,0],[1,0,0,0]],# w\n",
    "    [[0,1,0,0],[0,0,0,0]], # x \n",
    "    [[0,0,1,0],[0,0,0,0]], # y\n",
    "    [[0,0,0,0],[1,0,0,0]]]# z\n",
    "# cada lista [0,0,0] indica si es w, x, y ó z\n",
    "     \n",
    "# En este ejemplo se ve un subgrafo que representa cuadrados (x,y,z) se veria asi-> (w,12,x), (x,11,y), (y,11,z), (z,12,x)"
   ]
  },
  {
   "cell_type": "code",
   "execution_count": 43,
   "metadata": {},
   "outputs": [],
   "source": [
    "def funcion(A, M, b):\n",
    "    assert len(A) == 4, f\"El patrón {A} no tiene exactamente 4 variables\"\n",
    "    #Armar rdd\n",
    "    data = [\n",
    "    (1,11,2),(1,11,3),(2,11,3),\n",
    "    (3,11,2),(3,11,4),(4,11,1),\n",
    "    (4,11,2),(4,11,3),(4,12,5),\n",
    "    (5,12,1),(5,12,2),(5,12,6)\n",
    "    ]\n",
    "    rdd = sc.parallelize(data)\n",
    "    # Map\n",
    "    map_rdd_square = rdd.flatMap(lambda x: key_edge_square(x, b))\n",
    "    rdd_group= map_rdd_square.groupByKey().mapValues(list)\n",
    "\n",
    "    # Reduce\n",
    "    rdd_squares = rdd_group.flatMapValues(reduce_phase_square_mixed_labels) \n",
    "    #retornar\n",
    "    lista = rdd_squares.collect()\n",
    "    r = set()\n",
    "    for l in lista:\n",
    "        r.add(l[1])\n",
    "    return r"
   ]
  },
  {
   "cell_type": "code",
   "execution_count": 46,
   "metadata": {},
   "outputs": [
    {
     "data": {
      "text/plain": [
       "{(1, 3, 4, 5), (2, 3, 4, 5)}"
      ]
     },
     "execution_count": 46,
     "metadata": {},
     "output_type": "execute_result"
    }
   ],
   "source": [
    "A = [\"w\",\"x\",\"y\",\"z\"]\n",
    "L = [11,12]\n",
    "     # 11       12        # Parte izq de la arista\n",
    "M = [[[0,0,0,0],[1,0,0,0]],# w\n",
    "    [[0,1,0,0],[0,0,0,0]], # x \n",
    "    [[0,0,1,0],[0,0,0,0]], # y\n",
    "    [[0,0,0,0],[1,0,0,0]]]# z\n",
    "\n",
    "funcion(A,M, 2) # A y M son el patrón, mientras que el 2 es el parámetro b"
   ]
  }
 ],
 "metadata": {
  "colab": {
   "provenance": []
  },
  "kernelspec": {
   "display_name": "Python 3 (ipykernel)",
   "language": "python",
   "name": "python3"
  },
  "language_info": {
   "codemirror_mode": {
    "name": "ipython",
    "version": 3
   },
   "file_extension": ".py",
   "mimetype": "text/x-python",
   "name": "python",
   "nbconvert_exporter": "python",
   "pygments_lexer": "ipython3",
   "version": "3.10.12"
  }
 },
 "nbformat": 4,
 "nbformat_minor": 4
}
