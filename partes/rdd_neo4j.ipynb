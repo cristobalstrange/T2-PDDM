{
 "cells": [
  {
   "cell_type": "markdown",
   "metadata": {},
   "source": [
    "```markdown\n",
    "Se utilizó los siguiente en neo4j para armar el RDD:\n",
    "\n",
    "1. Instanciar el grafo: Merge, se generan los nodos y luego las relaciones entre esos nodos siguiendo la estrucutra (n1, label, n2)\n",
    "\n",
    "\n",
    "// Crear nodos\n",
    "MERGE (n1:Node {id: 1})\n",
    "MERGE (n2:Node {id: 2})\n",
    "MERGE (n3:Node {id: 3})\n",
    "MERGE (n4:Node {id: 4})\n",
    "MERGE (n5:Node {id: 5})\n",
    "MERGE (n6:Node {id: 6})\n",
    "\n",
    "// Crear relaciones\n",
    "MERGE (n1)-[:REL {label: 11}]->(n2)\n",
    "MERGE (n1)-[:REL {label: 11}]->(n3)\n",
    "MERGE (n2)-[:REL {label: 11}]->(n3)\n",
    "MERGE (n3)-[:REL {label: 11}]->(n2)\n",
    "MERGE (n3)-[:REL {label: 11}]->(n4)\n",
    "MERGE (n4)-[:REL {label: 11}]->(n1)\n",
    "MERGE (n4)-[:REL {label: 11}]->(n2)\n",
    "MERGE (n4)-[:REL {label: 11}]->(n3)\n",
    "MERGE (n4)-[:REL {label: 12}]->(n5)\n",
    "MERGE (n5)-[:REL {label: 12}]->(n1)\n",
    "MERGE (n5)-[:REL {label: 12}]->(n2)\n",
    "MERGE (n5)-[:REL {label: 12}]->(n6)\n",
    "\n",
    "\n",
    "2. Ploteo del grafo: Se utiliza Match para definir las relaciones que se van a plotear en el grafo. En este caso (n)-[r]->(m) nos indica que debemos plotear todo el grafo.\n",
    "\n",
    "\n",
    "MATCH (n)-[r]->(m)\n",
    "RETURN n, r, m\n",
    "\n",
    "\n",
    "3. Ploteo de triángulos: Siguiendo la misma lógica del Match anterior, ahora se filtra el ploteo del Match de modo que solo se muestren los nodos que cumplen (x,label,y), (y,label,z), (z,label,x)\n",
    "\n",
    "MATCH (x)-[r1]->(y),\n",
    "      (y)-[r2]->(z),\n",
    "      (z)-[r3]->(x)\n",
    "RETURN x, y, z\n"
   ]
  },
  {
   "cell_type": "markdown",
   "metadata": {},
   "source": [
    "## Creando una RDD en Pyspark con un servidor levantado en Neo4j"
   ]
  },
  {
   "cell_type": "code",
   "execution_count": null,
   "metadata": {},
   "outputs": [],
   "source": [
    "from pyspark.sql import SparkSession\n",
    "from neo4j import GraphDatabase\n",
    "\n",
    "# Configurar nombre de usuario y contraseña de Neo4j\n",
    "neo4j_user = \"neo4j\"\n",
    "neo4j_password = \"your_password\"\n",
    "\n",
    "# Inicializa la sesión de Spark\n",
    "spark = SparkSession.builder \\\n",
    "    .appName(\"Neo4j to Spark\") \\\n",
    "    .config(\"spark.neo4j.bolt.url\", \"bolt://localhost:7687\") \\\n",
    "    .config(\"spark.neo4j.bolt.user\", neo4j_user) \\\n",
    "    .config(\"spark.neo4j.bolt.password\", neo4j_password) \\\n",
    "    .getOrCreate()\n",
    "\n",
    "# Función para conectar a Neo4j y obtener las aristas\n",
    "def get_edges_from_neo4j():\n",
    "    driver = GraphDatabase.driver(\"bolt://localhost:7687\", auth=(neo4j_user, neo4j_password)) #Entregamos el puerto, y el nombre de usuario y contraseña.\n",
    "    with driver.session() as session:\n",
    "        result = session.run(\"MATCH (a)-[r]->(b) RETURN a.id AS node1, r.label AS label, b.id AS node2\") #Notar que usamos el mismo tipo de consultas para Neo4j.\n",
    "        edges = [(record[\"node1\"], record[\"label\"], record[\"node2\"]) for record in result] #Aquí seguimos la estructura (n1, label, n2)\n",
    "    driver.close()\n",
    "    return edges\n",
    "\n",
    "# Extrae las aristas del grafo de Neo4j\n",
    "edges = get_edges_from_neo4j()\n",
    "\n",
    "# Crea un RDD de Spark con las aristas (Usamos la función para el parallelize)\n",
    "edges_rdd = spark.sparkContext.parallelize(edges)\n",
    "\n",
    "# Muestra el contenido del RDD\n",
    "for edge in edges_rdd.collect():\n",
    "    print(edge)\n"
   ]
  }
 ],
 "metadata": {
  "kernelspec": {
   "display_name": "datascience",
   "language": "python",
   "name": "python3"
  },
  "language_info": {
   "codemirror_mode": {
    "name": "ipython",
    "version": 3
   },
   "file_extension": ".py",
   "mimetype": "text/x-python",
   "name": "python",
   "nbconvert_exporter": "python",
   "pygments_lexer": "ipython3",
   "version": "3.12.2"
  }
 },
 "nbformat": 4,
 "nbformat_minor": 2
}
