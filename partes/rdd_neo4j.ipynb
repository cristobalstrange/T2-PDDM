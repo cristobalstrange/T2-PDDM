{
 "cells": [
  {
   "cell_type": "markdown",
   "metadata": {},
   "source": [
    "```markdown\n",
    "Se utilizó los siguiente en neo4j para armar el RDD:\n",
    "\n",
    "1. Instanciar el grafo: Merge, se generan los nodos y luego las relaciones entre esos nodos siguiendo la estrucutra (n1, label, n2)\n",
    "\n",
    "\n",
    "// Crear nodos\n",
    "MERGE (n1:Node {id: 1})\n",
    "MERGE (n2:Node {id: 2})\n",
    "MERGE (n3:Node {id: 3})\n",
    "MERGE (n4:Node {id: 4})\n",
    "MERGE (n5:Node {id: 5})\n",
    "MERGE (n6:Node {id: 6})\n",
    "\n",
    "// Crear relaciones\n",
    "MERGE (n1)-[:REL {label: 11}]->(n2)\n",
    "MERGE (n1)-[:REL {label: 11}]->(n3)\n",
    "MERGE (n2)-[:REL {label: 11}]->(n3)\n",
    "MERGE (n3)-[:REL {label: 11}]->(n2)\n",
    "MERGE (n3)-[:REL {label: 11}]->(n4)\n",
    "MERGE (n4)-[:REL {label: 11}]->(n1)\n",
    "MERGE (n4)-[:REL {label: 11}]->(n2)\n",
    "MERGE (n4)-[:REL {label: 11}]->(n3)\n",
    "MERGE (n4)-[:REL {label: 12}]->(n5)\n",
    "MERGE (n5)-[:REL {label: 12}]->(n1)\n",
    "MERGE (n5)-[:REL {label: 12}]->(n2)\n",
    "MERGE (n5)-[:REL {label: 12}]->(n6)\n",
    "\n",
    "\n",
    "2. Ploteo del grafo: Se utiliza Match para definir las relaciones que se van a plotear en el grafo. En este caso (n)-[r]->(m) nos indica que debemos plotear todo el grafo.\n",
    "\n",
    "\n",
    "MATCH (n)-[r]->(m)\n",
    "RETURN n, r, m\n",
    "\n",
    "\n",
    "3. Ploteo de triángulos: Siguiendo la misma lógica del Match anterior, ahora se filtra el ploteo del Match de modo que solo se muestren los nodos que cumplen (x,label,y), (y,label,z), (z,label,x)\n",
    "\n",
    "MATCH (x)-[r1]->(y),\n",
    "      (y)-[r2]->(z),\n",
    "      (z)-[r3]->(x)\n",
    "RETURN x, y, z\n"
   ]
  }
 ],
 "metadata": {
  "language_info": {
   "name": "python"
  }
 },
 "nbformat": 4,
 "nbformat_minor": 2
}
